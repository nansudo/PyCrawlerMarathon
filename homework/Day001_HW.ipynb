{
 "cells": [
  {
   "cell_type": "markdown",
   "metadata": {},
   "source": [
    "# 資料來源與檔案存取\n",
    "\n",
    "* 資料來源與取得\n",
    "* 開放資料\n",
    "* 資料儲存格式\n",
    "* Python 存取檔案\n",
    "\n",
    "1.（簡答題）檔案、API、爬蟲三種取得資料方式有什麼不同？\n",
    "\n",
    "* 檔案和API是資料擁有者主動釋出，檔案的資料會先包裝好提供下載，API則是提供數據接口，讓使用者選擇要下載所需的資料。\n",
    "* 爬蟲則是資料擁有者被動釋出，直接取用已經渲染在網頁上的資料。"
   ]
  },
  {
   "cell_type": "markdown",
   "metadata": {},
   "source": [
    "# 使用 Python 下載檔案"
   ]
  },
  {
   "cell_type": "code",
   "execution_count": 93,
   "metadata": {},
   "outputs": [],
   "source": [
    "from urllib.request import urlretrieve\n",
    "import os"
   ]
  },
  {
   "cell_type": "code",
   "execution_count": 94,
   "metadata": {
    "scrolled": true
   },
   "outputs": [
    {
     "name": "stdout",
     "output_type": "stream",
     "text": [
      "建立資料夾\n"
     ]
    }
   ],
   "source": [
    "# 檢查是否有Data資料夾，並建立Homework.txt\n",
    "\n",
    "if not os.path.exists('./Data'):\n",
    "    print('建立資料夾')\n",
    "    os.mkdir('Data')\n",
    "    urlretrieve(\"https://www.w3.org/TR/PNG/iso_8859-1.txt\", \"./Data/Homework.txt\")\n",
    "else:\n",
    "    print('資料夾已存在')\n",
    "\n"
   ]
  },
  {
   "cell_type": "code",
   "execution_count": 97,
   "metadata": {},
   "outputs": [
    {
     "name": "stdout",
     "output_type": "stream",
     "text": [
      "找到文件\n"
     ]
    }
   ],
   "source": [
    "# 檢查是否有Homework.txt，如果有覆寫入 'Hello World'\n",
    "\n",
    "if os.path.exists('./Data/Homework.txt'):\n",
    "    print('找到文件')\n",
    "    fn = open('./Data/Homework.txt', 'w')\n",
    "    fn.write('Hello World')\n",
    "    fn.close()   \n",
    "else:\n",
    "    print('文件不存在')"
   ]
  },
  {
   "cell_type": "code",
   "execution_count": 98,
   "metadata": {},
   "outputs": [
    {
     "name": "stdout",
     "output_type": "stream",
     "text": [
      "字數 跟 \"Hello World\" 符合\n"
     ]
    }
   ],
   "source": [
    "# 檢查Homework.txt的字數是否符合 'Hello World'\n",
    "\n",
    "fn = open('./Data/Homework.txt', 'r')\n",
    "\n",
    "if len(fn.read()) == len('Hello World'):\n",
    "    print('字數 跟 \"Hello World\" 符合')\n",
    "else:\n",
    "    print(len(fn.read()))\n",
    "    print('字數 跟 \"Hello World\" 不符合')\n",
    "    \n",
    "fn.close()"
   ]
  },
  {
   "cell_type": "code",
   "execution_count": null,
   "metadata": {},
   "outputs": [],
   "source": []
  }
 ],
 "metadata": {
  "kernelspec": {
   "display_name": "Python 3",
   "language": "python",
   "name": "python3"
  },
  "language_info": {
   "codemirror_mode": {
    "name": "ipython",
    "version": 3
   },
   "file_extension": ".py",
   "mimetype": "text/x-python",
   "name": "python",
   "nbconvert_exporter": "python",
   "pygments_lexer": "ipython3",
   "version": "3.7.6"
  }
 },
 "nbformat": 4,
 "nbformat_minor": 4
}
