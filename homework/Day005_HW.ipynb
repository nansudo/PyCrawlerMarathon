{
 "cells": [
  {
   "cell_type": "markdown",
   "metadata": {},
   "source": [
    "# API 資料串接 - 以 Dcard API 實作範例\n",
    "\n",
    "* 了解 Dcard API 使用方式與回傳內容\n",
    "* 撰寫程式存取 API 且解析 JSON 格式資料\n"
   ]
  },
  {
   "cell_type": "markdown",
   "metadata": {},
   "source": [
    "## 作業目標\n",
    "\n",
    "* 請利用 API: https://www.dcard.tw/_api/forums/pet/posts?popular=true 回答下列問題：\n",
    "\n",
    "1. 這個 API 一次會回傳幾筆資料？每一筆資料包含哪些欄位？\n",
    "2. 取出每一筆資料的「標題」、「貼文時間」、「留言人數」、「按讚人數」\n",
    "3. 計算熱門/非熱門文章的「平均留言人數」與「平均按讚人數」"
   ]
  },
  {
   "cell_type": "code",
   "execution_count": 26,
   "metadata": {},
   "outputs": [
    {
     "name": "stdout",
     "output_type": "stream",
     "text": [
      "30\n"
     ]
    }
   ],
   "source": [
    "# 1. 這個 API 一次會回傳幾筆資料？每一筆資料包含哪些欄位？\n",
    "import requests\n",
    "import json\n",
    "\n",
    "r = requests.get('https://www.dcard.tw/_api/forums/pet/posts?popular=true')\n",
    "\n",
    "\n",
    "data = json.loads(r.text)\n",
    "\n",
    "print(len(data))\n",
    "# json.loads(r.text)\n",
    "# title excerpt createdAt commentCount likeCount"
   ]
  },
  {
   "cell_type": "code",
   "execution_count": 27,
   "metadata": {},
   "outputs": [
    {
     "name": "stdout",
     "output_type": "stream",
     "text": [
      "標題: 半路上救下的小袋鼠\n",
      "貼文時間: 2020-06-13T02:31:11.042Z\n",
      "留言人數: 87\n",
      "案讚人數 4036\n",
      "標題: 我的照騙貓咪🐱\n",
      "貼文時間: 2020-06-13T07:00:53.007Z\n",
      "留言人數: 13\n",
      "案讚人數 239\n",
      "標題: 同學你的兔子指甲該剪了\n",
      "貼文時間: 2020-06-13T10:01:07.422Z\n",
      "留言人數: 16\n",
      "案讚人數 187\n",
      "標題: 第一次拍兔子🐰\n",
      "貼文時間: 2020-06-13T16:45:14.212Z\n",
      "留言人數: 10\n",
      "案讚人數 174\n",
      "標題: 差別待遇\n",
      "貼文時間: 2020-06-13T13:57:52.464Z\n",
      "留言人數: 4\n",
      "案讚人數 57\n",
      "標題: 幼幼免費領養\n",
      "貼文時間: 2020-06-14T03:31:45.176Z\n",
      "留言人數: 0\n",
      "案讚人數 52\n",
      "標題: 溝通師來告訴你溝通到底是真是假\n",
      "貼文時間: 2020-06-13T17:58:20.528Z\n",
      "留言人數: 10\n",
      "案讚人數 46\n",
      "標題: #圖 我眼中的浪犬\n",
      "貼文時間: 2020-06-14T09:17:35.732Z\n",
      "留言人數: 3\n",
      "案讚人數 33\n",
      "標題: #圖 被貓咪恥笑了😟\n",
      "貼文時間: 2020-06-13T12:26:33.842Z\n",
      "留言人數: 0\n",
      "案讚人數 29\n",
      "標題: #貓#圖 招財貓 哈欠三連拍🐱\n",
      "貼文時間: 2020-06-13T15:01:41.693Z\n",
      "留言人數: 0\n",
      "案讚人數 28\n",
      "標題: 送養貓咪/台中市北屯（已徵得）\n",
      "貼文時間: 2020-06-13T14:35:06.275Z\n",
      "留言人數: 2\n",
      "案讚人數 20\n",
      "標題: 新手做貓梗圖(＾∇＾)ﾉ♪\n",
      "貼文時間: 2020-06-13T03:44:12.068Z\n",
      "留言人數: 8\n",
      "案讚人數 19\n",
      "標題: 新手鏟屎官請益🙏\n",
      "貼文時間: 2020-06-14T03:46:24.962Z\n",
      "留言人數: 3\n",
      "案讚人數 14\n",
      "標題: 🐰我們總是喜歡黏在一起~~~~~互相舔毛\n",
      "貼文時間: 2020-06-13T02:26:49.228Z\n",
      "留言人數: 1\n",
      "案讚人數 12\n",
      "標題: 帶狗不用狗鍊是在哭喔\n",
      "貼文時間: 2020-06-13T15:26:37.653Z\n",
      "留言人數: 5\n",
      "案讚人數 10\n",
      "標題: 台南安南區安中路有人狗狗失蹤嗎？（已尋回主人）\n",
      "貼文時間: 2020-06-13T17:03:29.941Z\n",
      "留言人數: 1\n",
      "案讚人數 9\n",
      "標題: 臉被兔子抓傷\n",
      "貼文時間: 2020-06-13T20:23:48.180Z\n",
      "留言人數: 9\n",
      "案讚人數 6\n",
      "標題: 貓貓日常\n",
      "貼文時間: 2020-06-13T06:04:56.429Z\n",
      "留言人數: 3\n",
      "案讚人數 6\n",
      "標題: 轉：我沒有懷孕，是單純吃太胖啦🐱\n",
      "貼文時間: 2020-06-13T04:35:52.414Z\n",
      "留言人數: 0\n",
      "案讚人數 6\n",
      "標題: 用舌頭祝大家情人節快樂\n",
      "貼文時間: 2020-06-14T04:28:35.062Z\n",
      "留言人數: 1\n",
      "案讚人數 4\n",
      "標題: 暫停一分鐘，進門口拿寵物用品，怎麼可能忘記自己的愛犬...沒辦法回覆大仁科大的版，只好這樣了\n",
      "貼文時間: 2020-06-13T18:32:45.683Z\n",
      "留言人數: 2\n",
      "案讚人數 4\n",
      "標題: 遇到奇怪送養人？\n",
      "貼文時間: 2020-06-14T09:06:40.007Z\n",
      "留言人數: 2\n",
      "案讚人數 3\n",
      "標題: 問 養貓費用 求回答\n",
      "貼文時間: 2020-06-14T09:05:49.441Z\n",
      "留言人數: 6\n",
      "案讚人數 3\n",
      "標題: 大家有遇過遛狗被瞪嗎？😭\n",
      "貼文時間: 2020-06-14T08:56:30.531Z\n",
      "留言人數: 3\n",
      "案讚人數 3\n",
      "標題: 幼貓🥺\n",
      "貼文時間: 2020-06-14T03:09:49.430Z\n",
      "留言人數: 7\n",
      "案讚人數 3\n",
      "標題: 關於領養愛兔協會的兔子\n",
      "貼文時間: 2020-06-13T19:08:44.814Z\n",
      "留言人數: 0\n",
      "案讚人數 3\n",
      "標題: 呵護式動物保護系統相關問卷\n",
      "貼文時間: 2020-06-13T16:07:59.157Z\n",
      "留言人數: 2\n",
      "案讚人數 2\n",
      "標題: 貓 肺變白（纖維化）\n",
      "貼文時間: 2020-06-13T05:25:37.011Z\n",
      "留言人數: 1\n",
      "案讚人數 2\n",
      "標題: 聰明小寶貝找家哦～\n",
      "貼文時間: 2020-06-13T03:15:46.699Z\n",
      "留言人數: 0\n",
      "案讚人數 2\n",
      "標題: 會深蹲的狗\n",
      "貼文時間: 2020-06-14T11:53:28.048Z\n",
      "留言人數: 0\n",
      "案讚人數 1\n"
     ]
    }
   ],
   "source": [
    "# 2. 取出每一筆資料的「標題」、「貼文時間」、「留言人數」、「按讚人數」\n",
    "\n",
    "for i in range(len(data)):\n",
    "    print('標題:',data[i]['title'])\n",
    "    print('貼文時間:',data[i]['createdAt'])\n",
    "    print('留言人數:',data[i]['commentCount'])\n",
    "    print('案讚人數',data[i]['likeCount'])"
   ]
  },
  {
   "cell_type": "code",
   "execution_count": 29,
   "metadata": {},
   "outputs": [
    {
     "name": "stdout",
     "output_type": "stream",
     "text": [
      "commentMean: 6.633333333333334\n",
      "likeMean: 167.1\n"
     ]
    }
   ],
   "source": [
    "# 3. 計算熱門/非熱門文章的「平均留言人數」與「平均按讚人數」\n",
    "\n",
    "comment = 0\n",
    "like = 0\n",
    "\n",
    "for i in range(len(data)):\n",
    "    comment += data[i]['commentCount']\n",
    "    like += data[i]['likeCount']\n",
    "\n",
    "commentMean = comment/len(data)\n",
    "likeMean = like/len(data)\n",
    "\n",
    "print('commentMean:',commentMean)\n",
    "print('likeMean:',likeMean)"
   ]
  },
  {
   "cell_type": "code",
   "execution_count": null,
   "metadata": {},
   "outputs": [],
   "source": []
  },
  {
   "cell_type": "code",
   "execution_count": null,
   "metadata": {},
   "outputs": [],
   "source": []
  }
 ],
 "metadata": {
  "kernelspec": {
   "display_name": "Python 3",
   "language": "python",
   "name": "python3"
  },
  "language_info": {
   "codemirror_mode": {
    "name": "ipython",
    "version": 3
   },
   "file_extension": ".py",
   "mimetype": "text/x-python",
   "name": "python",
   "nbconvert_exporter": "python",
   "pygments_lexer": "ipython3",
   "version": "3.7.6"
  }
 },
 "nbformat": 4,
 "nbformat_minor": 2
}
