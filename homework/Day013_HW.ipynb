{
 "cells": [
  {
   "cell_type": "markdown",
   "metadata": {},
   "source": [
    "# PTT 網路爬蟲實作練習\n",
    "\n",
    "\n",
    "* 能夠利用 Request + BeatifulSour 撰寫爬蟲，並存放到合適的資料結構\n"
   ]
  },
  {
   "cell_type": "markdown",
   "metadata": {},
   "source": [
    "## 作業目標\n",
    "\n",
    "根據範例 ，完成以下問題：\n",
    "\n",
    "* ① 印出最新文章的「作者」「標題」「時間」\n",
    "* ② 印出第一頁所有文章的「作者」「標題」「時間」\n"
   ]
  },
  {
   "cell_type": "markdown",
   "metadata": {},
   "source": [
    "### ① 印出最新文章的「作者」「標題」「時間」"
   ]
  },
  {
   "cell_type": "code",
   "execution_count": 42,
   "metadata": {},
   "outputs": [
    {
     "name": "stdout",
     "output_type": "stream",
     "text": [
      "{'標題': '[公告] 第一次被退文，可在三天後刪除退文', '作者': 'Vedan', '時間': 'Mon Mar  9 11:44:26 2020'}\n"
     ]
    }
   ],
   "source": [
    "import requests\n",
    "from bs4 import BeautifulSoup\n",
    "\n",
    "url = 'https://www.ptt.cc/bbs/NBA/index.html'\n",
    "r = requests.get(url)\n",
    "soup = BeautifulSoup(r.text, \"html5lib\")\n",
    "\n",
    "dataList = soup.findAll(class_='r-ent')\n",
    "\n",
    "posts = []\n",
    "\n",
    "for i in dataList:\n",
    "    try:\n",
    "#         print(i)\n",
    "        post = {}\n",
    "        post['標題'] = i.find(class_='title').text.replace('\\t', '').replace('\\n', '')\n",
    "        post['作者'] = i.find(class_='author').text\n",
    "        getUrl = i.find('a')['href']\n",
    "        url = 'https://www.ptt.cc' + getUrl\n",
    "        res = requests.get(url)\n",
    "        soup = BeautifulSoup(res.text, \"html5lib\")\n",
    "        post['時間'] = soup.findAll(class_='article-meta-value')[-1].text\n",
    "        posts.append(post)\n",
    "    except:\n",
    "        continue\n",
    "\n",
    "posts = sorted(posts, key= lambda x: x['時間'])\n",
    "print(posts[-1])"
   ]
  },
  {
   "cell_type": "markdown",
   "metadata": {},
   "source": [
    "### ② 印出第一頁所有文章的「作者」「標題」「時間」"
   ]
  },
  {
   "cell_type": "code",
   "execution_count": 43,
   "metadata": {},
   "outputs": [
    {
     "name": "stdout",
     "output_type": "stream",
     "text": [
      "{'標題': '[花邊] PP: Allen向河流抱怨軟豆後他們越發疏遠', '作者': 'whoAU', '時間': 'Fri Jun 19 10:18:33 2020'}\n",
      "{'標題': '[花邊] 打閉門比賽的球員可能會要戴\"智慧戒指\"', '作者': 'pneumo', '時間': 'Fri Jun 19 10:24:36 2020'}\n",
      "{'標題': '[新聞] NBA／教練工會有疑慮 聯盟復賽添變數', '作者': 'wfelix', '時間': 'Fri Jun 19 11:06:41 2020'}\n",
      "{'標題': '[新聞] 助攻數突然暴增\\u3000勇士新秀說明成長原因', '作者': 'Hank', '時間': 'Fri Jun 19 11:47:38 2020'}\n",
      "{'標題': '[公告] 版主上任相關事項 ', '作者': 'qazwsx879345', '時間': 'Fri Oct 25 10:44:03 2019'}\n",
      "{'標題': '[情報] SEASON Schedule 賽程 March 19–20', '作者': 'Acetoxy', '時間': 'Mon Mar  2 01:19:40 2020'}\n",
      "{'標題': '[公告] 第一次被退文，可在三天後刪除退文', '作者': 'Vedan', '時間': 'Mon Mar  9 11:44:26 2020'}\n",
      "{'標題': '[公告] 板務說明 (發錢)', '作者': 'Vedan', '時間': 'Fri Apr  3 01:28:00 2020'}\n"
     ]
    }
   ],
   "source": [
    "import requests\n",
    "from bs4 import BeautifulSoup\n",
    "\n",
    "url = 'https://www.ptt.cc/bbs/NBA/index.html'\n",
    "r = requests.get(url)\n",
    "soup = BeautifulSoup(r.text, \"html5lib\")\n",
    "\n",
    "dataList = soup.findAll(class_='r-ent')\n",
    "\n",
    "posts = []\n",
    "\n",
    "for i in dataList:\n",
    "    try:\n",
    "#         print(i)\n",
    "        post = {}\n",
    "        post['標題'] = i.find(class_='title').text.replace('\\t', '').replace('\\n', '')\n",
    "        post['作者'] = i.find(class_='author').text\n",
    "        getUrl = i.find('a')['href']\n",
    "        url = 'https://www.ptt.cc' + getUrl\n",
    "        res = requests.get(url)\n",
    "        soup = BeautifulSoup(res.text, \"html5lib\")\n",
    "        post['時間'] = soup.findAll(class_='article-meta-value')[-1].text\n",
    "        posts.append(post)\n",
    "    except:\n",
    "        continue\n",
    "\n",
    "for j in posts:\n",
    "    print(j)"
   ]
  },
  {
   "cell_type": "markdown",
   "metadata": {},
   "source": [
    "### ③ 試著爬爬看其他版的文章"
   ]
  },
  {
   "cell_type": "code",
   "execution_count": 63,
   "metadata": {},
   "outputs": [
    {
     "name": "stdout",
     "output_type": "stream",
     "text": [
      "{'標題': '[問卦] PTT罵半天 結果現實民調7成多 哈哈', '作者': 'lunli924', '時間': 'Fri Jun 19 13:21:44 2020'}\n",
      "{'標題': '[新聞] 用China Airlines送口罩「功德做到墓仔埔', '作者': 'zzzz8931', '時間': 'Fri Jun 19 13:22:07 2020'}\n",
      "{'標題': '[問卦] 拿研究所筆試題目 去考該科教授？', '作者': 'nonpolar', '時間': 'Fri Jun 19 13:22:14 2020'}\n",
      "{'標題': 'Re: [問卦] 考卷上感謝教授能讓心軟嗎？', '作者': 'CapeNo5566', '時間': 'Fri Jun 19 13:23:35 2020'}\n",
      "{'標題': '[問卦] 有學佛學到立地成魔的例子嗎？', '作者': 'kusowan', '時間': 'Fri Jun 19 13:23:55 2020'}\n",
      "{'標題': '[問卦] 拿一萬單去問高中補教老師 他們會嗎', '作者': 'david0426', '時間': 'Fri Jun 19 13:24:04 2020'}\n",
      "{'標題': '[問卦] 求昆蟲專家解惑', '作者': 'serena0101', '時間': 'Fri Jun 19 13:24:06 2020'}\n",
      "{'標題': 'Re: [新聞] 女大生「產女裝袋後」回教室考試！同學', '作者': 'upeo', '時間': 'Fri Jun 19 13:24:09 2020'}\n",
      "{'標題': '[問卦] 一個星期通勤三天，買車划算嗎', '作者': 'kuzu', '時間': 'Fri Jun 19 13:24:15 2020'}\n",
      "{'標題': '[問卦] 插吸管故意差歪算反社會嗎？', '作者': 'alohac', '時間': 'Fri Jun 19 13:24:16 2020'}\n",
      "{'標題': '[問卦] 接下來是什麼費也要設上限', '作者': 'asdfg012345', '時間': 'Fri Jun 19 13:24:24 2020'}\n",
      "{'標題': 'Re: [問卦] PTT罵半天 結果現實民調7成多 哈哈', '作者': 'zzahoward', '時間': 'Fri Jun 19 13:27:03 2020'}\n",
      "{'標題': 'Re: [新聞] 「黑人牙膏」涉種族歧視！高露潔：重新評', '作者': 'loveAJB', '時間': 'Fri Jun 19 13:27:33 2020'}\n",
      "{'標題': '[新聞] 柯P誇口不會被打敗的「實名制口罩販機」', '作者': 'drea', '時間': 'Fri Jun 19 13:27:41 2020'}\n",
      "{'標題': '[問卦] 不法所得的判定方式？', '作者': 'milkBK', '時間': 'Fri Jun 19 13:28:27 2020'}\n",
      "{'標題': 'Re: [新聞] 「黑人牙膏」涉種族歧視！高露潔：重新評', '作者': 'kilof', '時間': 'Fri Jun 19 13:29:20 2020'}\n",
      "{'標題': '[新聞] 日本馬尾妹辣爆！嘴咬橡皮筋…巨乳一挺', '作者': 'inbanban', '時間': 'Fri Jun 19 13:29:40 2020'}\n",
      "{'標題': '[公告] 八卦板板規(2020.06.11)', '作者': 'seabox', '時間': 'Thu Jun 11 00:00:15 2020'}\n",
      "{'標題': '[協尋] 臺南失蹤長者協尋', '作者': 'noblue155', '時間': 'Wed Jun 17 19:14:55 2020'}\n",
      "{'標題': '[公告] 六月置底閒聊區', '作者': 'XXXXGAY', '時間': 'Mon Jun  1 23:14:26 2020'}\n"
     ]
    }
   ],
   "source": [
    "import requests\n",
    "from bs4 import BeautifulSoup\n",
    "\n",
    "url = 'https://www.ptt.cc/bbs/Gossiping/index.html'\n",
    "r = requests.get(url,cookies={'over18': '1'})\n",
    "soup = BeautifulSoup(r.text, \"html5lib\")\n",
    "\n",
    "dataList = soup.findAll(class_='r-ent')\n",
    "\n",
    "posts = []\n",
    "\n",
    "# print(dataList)\n",
    "\n",
    "for i in dataList:\n",
    "    try:\n",
    "        post = {}\n",
    "        post['標題'] = i.find(class_='title').text.replace('\\t', '').replace('\\n', '')\n",
    "        post['作者'] = i.find(class_='author').text\n",
    "        getUrl = i.find('a')['href']\n",
    "        url = 'https://www.ptt.cc' + getUrl\n",
    "        res = requests.get(url,cookies={'over18': '1'})\n",
    "        soup = BeautifulSoup(res.text, \"html5lib\")\n",
    "        post['時間'] = soup.findAll(class_='article-meta-value')[-1].text\n",
    "        \n",
    "        posts.append(post)\n",
    "        \n",
    "    except:\n",
    "        continue\n",
    "        \n",
    "for j in posts:\n",
    "    print(j)"
   ]
  },
  {
   "cell_type": "code",
   "execution_count": null,
   "metadata": {},
   "outputs": [],
   "source": []
  }
 ],
 "metadata": {
  "kernelspec": {
   "display_name": "Python 3",
   "language": "python",
   "name": "python3"
  },
  "language_info": {
   "codemirror_mode": {
    "name": "ipython",
    "version": 3
   },
   "file_extension": ".py",
   "mimetype": "text/x-python",
   "name": "python",
   "nbconvert_exporter": "python",
   "pygments_lexer": "ipython3",
   "version": "3.7.6"
  }
 },
 "nbformat": 4,
 "nbformat_minor": 2
}
