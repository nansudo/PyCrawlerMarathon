{
 "cells": [
  {
   "cell_type": "markdown",
   "metadata": {},
   "source": [
    "# 其他工具：Grab、PyQuery\n",
    "\n",
    "\n",
    "* 利用 Grab 套件的存取 HTML 資源\n",
    "* 利用 PyQuery 套件的解析 HTML 格式\n"
   ]
  },
  {
   "cell_type": "markdown",
   "metadata": {},
   "source": [
    "## 作業目標\n",
    "\n",
    "將之前用 requests + beatifulsoup 實作的方式，改寫成 grab + pyquery，並且比較有哪些地方不同。\n",
    "\n",
    "\n",
    "\n"
   ]
  },
  {
   "cell_type": "markdown",
   "metadata": {},
   "source": [
    "## requests + BeautifulSoup\n"
   ]
  },
  {
   "cell_type": "code",
   "execution_count": 51,
   "metadata": {},
   "outputs": [
    {
     "name": "stdout",
     "output_type": "stream",
     "text": [
      "<class 'bs4.element.ResultSet'>\n",
      "沒事喔，因為叔叔已經死掉了😭\n",
      "跟90歲阿公出櫃\n",
      "香蕉哥哥要對自己的孩子下手？\n",
      "外送沒來客服給我玩遊戲\n",
      "更) 急！！！這是真的嗎？?\n",
      "#4更 第一次跟愛莉莎莎拍片之心得\n",
      "工讀生累惹\n",
      "關於面膜事件的買家\n",
      "令我感到噁心的姊夫，日後要怎麼面對@@...\n",
      "X亞 斯X 態度\n",
      "曖昧對象在我面前全面失控⋯⋯的故事\n",
      "快二十年兄弟分手了 如何安慰\n",
      "該怎麼說服男友不要取這個店名......\n",
      "台灣人到底要多無知\n",
      "自製馬卡龍一顆不到5元\n",
      "能接受另一半跟別人穩聊嗎？\n",
      "蕾拉的豐胸按摩有效！\n",
      "捷運上看到⋯\n",
      "學設計的蚊子\n",
      "不准男友裝桌機卻在他筆電發現這個模擬器\n",
      "想再吃一次的台中美食\n",
      "姊姊這種生物 全家福\n",
      "大學生畢業不會 Excel、word\n",
      "全家25元波蘿與35元波蘿的比較。\n",
      "小屈唇膏流血出清了!!\n",
      "#圖 私藏愛店！台中六間甜點咖啡廳掏心推薦♡生乳酪、千層、可頌、軟餅乾🍪\n",
      "#更 所有養貓的人都知道\n",
      "現在網美的素質？\n",
      "意外解鎖IG新功能\n",
      "為什麼反骨畫黑臉會被戴維斯罵？\n"
     ]
    }
   ],
   "source": [
    "import requests\n",
    "from bs4 import BeautifulSoup\n",
    "\n",
    "html = requests.get('https://www.dcard.tw/f')\n",
    "soup = BeautifulSoup(html.text)\n",
    "data = soup.findAll('a',{'class':'sc-1v1d5rx-3 kPUUNB'})\n",
    "\n",
    "print(type(data))\n",
    "\n",
    "for i in data:\n",
    "    print(i.span.get_text())\n",
    "\n"
   ]
  },
  {
   "cell_type": "markdown",
   "metadata": {},
   "source": [
    "## Grab + PyQuery"
   ]
  },
  {
   "cell_type": "code",
   "execution_count": 50,
   "metadata": {
    "scrolled": false
   },
   "outputs": [
    {
     "name": "stdout",
     "output_type": "stream",
     "text": [
      "<class 'generator'>\n",
      "沒事喔，因為叔叔已經死掉了😭\n",
      "跟90歲阿公出櫃\n",
      "香蕉哥哥要對自己的孩子下手？\n",
      "外送沒來客服給我玩遊戲\n",
      "更) 急！！！這是真的嗎？?\n",
      "#4更 第一次跟愛莉莎莎拍片之心得\n",
      "工讀生累惹\n",
      "關於面膜事件的買家\n",
      "令我感到噁心的姊夫，日後要怎麼面對@@...\n",
      "X亞 斯X 態度\n",
      "曖昧對象在我面前全面失控⋯⋯的故事\n",
      "快二十年兄弟分手了 如何安慰\n",
      "該怎麼說服男友不要取這個店名......\n",
      "台灣人到底要多無知\n",
      "自製馬卡龍一顆不到5元\n",
      "能接受另一半跟別人穩聊嗎？\n",
      "蕾拉的豐胸按摩有效！\n",
      "捷運上看到⋯\n",
      "學設計的蚊子\n",
      "不准男友裝桌機卻在他筆電發現這個模擬器\n",
      "想再吃一次的台中美食\n",
      "姊姊這種生物 全家福\n",
      "大學生畢業不會 Excel、word\n",
      "全家25元波蘿與35元波蘿的比較。\n",
      "小屈唇膏流血出清了!!\n",
      "#圖 私藏愛店！台中六間甜點咖啡廳掏心推薦♡生乳酪、千層、可頌、軟餅乾🍪\n",
      "#更 所有養貓的人都知道\n",
      "現在網美的素質？\n",
      "意外解鎖IG新功能\n",
      "為什麼反骨畫黑臉會被戴維斯罵？\n"
     ]
    }
   ],
   "source": [
    "from grab import Grab\n",
    "from pyquery import PyQuery as pq\n",
    "\n",
    "g = Grab()\n",
    "resp = g.go('https://www.dcard.tw/f')\n",
    "resp.body\n",
    "\n",
    "doc = pq(resp.body)\n",
    "title = doc('.sc-1v1d5rx-3.kPUUNB span').items()\n",
    "\n",
    "print(type(title))\n",
    "\n",
    "for i in title:\n",
    "    print(i.text())"
   ]
  },
  {
   "cell_type": "code",
   "execution_count": null,
   "metadata": {},
   "outputs": [],
   "source": []
  }
 ],
 "metadata": {
  "kernelspec": {
   "display_name": "Python 3",
   "language": "python",
   "name": "python3"
  },
  "language_info": {
   "codemirror_mode": {
    "name": "ipython",
    "version": 3
   },
   "file_extension": ".py",
   "mimetype": "text/x-python",
   "name": "python",
   "nbconvert_exporter": "python",
   "pygments_lexer": "ipython3",
   "version": "3.7.6"
  }
 },
 "nbformat": 4,
 "nbformat_minor": 2
}
